{
 "cells": [
  {
   "cell_type": "markdown",
   "metadata": {},
   "source": [
    "# **Introduction/Business Problem**\n"
   ]
  },
  {
   "cell_type": "markdown",
   "metadata": {},
   "source": [
    "Both Toronto and New York are the most popular city and financial capital of their own country. Most of the foreigner,including me, might to live or travel or know the similarity and disimilarity of these two diverse city. Therefore, in this project, we will segment and compare this two cities based on:\n",
    "1. **Their Average Income**\n",
    "2. **Population Desity**\n",
    "3. **The most popular restaurant of the two cities in order to know whether they have the same preferable food or not**"
   ]
  },
  {
   "cell_type": "markdown",
   "metadata": {},
   "source": [
    "# **The Required DataSet:**"
   ]
  },
  {
   "cell_type": "markdown",
   "metadata": {},
   "source": [
    "1. Location data for New York:We can get this data from Week3 Lab https://geo.nyu.edu/catalog/nyu_2451_34572\n",
    "2. Location data for Toronto: https://en.wikipedia.org/wiki/List_of_postal_codes_of_Canada:_M from wikepedia\n",
    "3. Explore Demographics data of Toronto and New York Neighbourhoods from Wikipedia\n",
    "4. We will use Foursquare API for getting venues information and location information\n",
    "    "
   ]
  },
  {
   "cell_type": "code",
   "execution_count": null,
   "metadata": {},
   "outputs": [],
   "source": []
  }
 ],
 "metadata": {
  "kernelspec": {
   "display_name": "Python",
   "language": "python",
   "name": "conda-env-python-py"
  },
  "language_info": {
   "codemirror_mode": {
    "name": "ipython",
    "version": 3
   },
   "file_extension": ".py",
   "mimetype": "text/x-python",
   "name": "python",
   "nbconvert_exporter": "python",
   "pygments_lexer": "ipython3",
   "version": "3.6.7"
  }
 },
 "nbformat": 4,
 "nbformat_minor": 4
}
